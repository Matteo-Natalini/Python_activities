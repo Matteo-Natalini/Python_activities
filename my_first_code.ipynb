{
 "cells": [
  {
   "cell_type": "code",
   "execution_count": 1,
   "id": "073c3294-3792-49c6-bb46-d4a88a0d01b7",
   "metadata": {},
   "outputs": [
    {
     "name": "stdout",
     "output_type": "stream",
     "text": [
      "My name is Matteo Natalini\n",
      "The date is 13/04/2023\n"
     ]
    }
   ],
   "source": [
    "# This is my first line of code\n",
    "print (\"My name is Matteo Natalini\")\n",
    "print (\"The date is 13/04/2023\")"
   ]
  },
  {
   "cell_type": "code",
   "execution_count": 3,
   "id": "5b921b40-0ed0-4a48-8cf6-37d3ea9e846e",
   "metadata": {},
   "outputs": [
    {
     "name": "stdout",
     "output_type": "stream",
     "text": [
      "182900\n",
      "36580.0\n",
      "60500\n"
     ]
    }
   ],
   "source": [
    "# Write a program to analysis real estate data\n",
    "a = 45000\n",
    "b = 23400\n",
    "c = 67000\n",
    "d = 34600\n",
    "e = 12900\n",
    "\n",
    "print (a + b + c + d + e)\n",
    "print ((a+ b + c + d + e) / 5)\n",
    "print (c - 6500)"
   ]
  },
  {
   "cell_type": "code",
   "execution_count": null,
   "id": "08cf2b5b-0554-43c1-a2ff-2a23f69caefc",
   "metadata": {},
   "outputs": [],
   "source": []
  }
 ],
 "metadata": {
  "kernelspec": {
   "display_name": "Python 3 (ipykernel)",
   "language": "python",
   "name": "python3"
  },
  "language_info": {
   "codemirror_mode": {
    "name": "ipython",
    "version": 3
   },
   "file_extension": ".py",
   "mimetype": "text/x-python",
   "name": "python",
   "nbconvert_exporter": "python",
   "pygments_lexer": "ipython3",
   "version": "3.9.13"
  }
 },
 "nbformat": 4,
 "nbformat_minor": 5
}
