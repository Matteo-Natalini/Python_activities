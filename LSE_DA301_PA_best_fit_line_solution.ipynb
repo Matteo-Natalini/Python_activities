{
 "cells": [
  {
   "cell_type": "markdown",
   "id": "94199fa3",
   "metadata": {},
   "source": [
    "### LSE Data Analytics Online Career Accelerator \n",
    "# Course 301: Advanced Analytics for Organisational Impact"
   ]
  },
  {
   "cell_type": "markdown",
   "id": "46fcc342",
   "metadata": {},
   "source": [
    "## Practical activity: Finding the best fit line"
   ]
  },
  {
   "cell_type": "markdown",
   "id": "26969258",
   "metadata": {},
   "source": [
    "**This is the solution to the activity.**\n",
    "\n",
    "The best fit line is the line that best describes the relationship between variables in a linear regression model. In this activity, you will use Python to find the line of best fit using data from e-commerce companies. \n",
    "\n",
    "You’ve been hired by a venture capitalist firm to evaluate e-commerce investment opportunities. They have provided you with a data set of existing companies they see as potential future investments. They need you to predict the future median value of the business using simple linear regression analysis.\n",
    "\n",
    "Using historical data, predict the median value of the seller's business based on the average number of items sold. "
   ]
  },
  {
   "cell_type": "markdown",
   "id": "e0ec3ed0",
   "metadata": {},
   "source": [
    "## 1. Prepare your workstation"
   ]
  },
  {
   "cell_type": "code",
   "execution_count": 4,
   "id": "19b7bc2c",
   "metadata": {},
   "outputs": [],
   "source": [
    "# Import all the necessary packages.\n",
    "import numpy as np\n",
    "import pandas as pd\n",
    "import statsmodels.api as sm\n",
    "import sklearn\n",
    "import matplotlib.pyplot as plt\n",
    "\n",
    "from sklearn import datasets \n",
    "from sklearn import linear_model\n",
    "from sklearn import metrics\n",
    "from sklearn.model_selection import train_test_split\n",
    "from sklearn.linear_model import LinearRegression"
   ]
  },
  {
   "cell_type": "markdown",
   "id": "8a657692",
   "metadata": {},
   "source": [
    "## 2. Import the data set"
   ]
  },
  {
   "cell_type": "code",
   "execution_count": 5,
   "id": "78df595c",
   "metadata": {},
   "outputs": [
    {
     "data": {
      "text/html": [
       "<div>\n",
       "<style scoped>\n",
       "    .dataframe tbody tr th:only-of-type {\n",
       "        vertical-align: middle;\n",
       "    }\n",
       "\n",
       "    .dataframe tbody tr th {\n",
       "        vertical-align: top;\n",
       "    }\n",
       "\n",
       "    .dataframe thead th {\n",
       "        text-align: right;\n",
       "    }\n",
       "</style>\n",
       "<table border=\"1\" class=\"dataframe\">\n",
       "  <thead>\n",
       "    <tr style=\"text-align: right;\">\n",
       "      <th></th>\n",
       "      <th>Sale</th>\n",
       "      <th>por_OS</th>\n",
       "      <th>por_NON</th>\n",
       "      <th>recc</th>\n",
       "      <th>avg_no_it</th>\n",
       "      <th>age</th>\n",
       "      <th>dis</th>\n",
       "      <th>diff_reg</th>\n",
       "      <th>tax</th>\n",
       "      <th>bk</th>\n",
       "      <th>lowstat</th>\n",
       "      <th>Median_s</th>\n",
       "    </tr>\n",
       "  </thead>\n",
       "  <tbody>\n",
       "    <tr>\n",
       "      <th>0</th>\n",
       "      <td>0.63</td>\n",
       "      <td>18.0</td>\n",
       "      <td>2.31</td>\n",
       "      <td>0</td>\n",
       "      <td>6.575</td>\n",
       "      <td>65.2</td>\n",
       "      <td>4.0900</td>\n",
       "      <td>1</td>\n",
       "      <td>296</td>\n",
       "      <td>396.90</td>\n",
       "      <td>4.98</td>\n",
       "      <td>24.0</td>\n",
       "    </tr>\n",
       "    <tr>\n",
       "      <th>1</th>\n",
       "      <td>2.73</td>\n",
       "      <td>0.0</td>\n",
       "      <td>7.07</td>\n",
       "      <td>0</td>\n",
       "      <td>6.421</td>\n",
       "      <td>78.9</td>\n",
       "      <td>4.9671</td>\n",
       "      <td>2</td>\n",
       "      <td>242</td>\n",
       "      <td>396.90</td>\n",
       "      <td>9.14</td>\n",
       "      <td>21.6</td>\n",
       "    </tr>\n",
       "    <tr>\n",
       "      <th>2</th>\n",
       "      <td>2.73</td>\n",
       "      <td>0.0</td>\n",
       "      <td>7.07</td>\n",
       "      <td>0</td>\n",
       "      <td>7.185</td>\n",
       "      <td>61.1</td>\n",
       "      <td>4.9671</td>\n",
       "      <td>2</td>\n",
       "      <td>242</td>\n",
       "      <td>392.83</td>\n",
       "      <td>4.03</td>\n",
       "      <td>34.7</td>\n",
       "    </tr>\n",
       "    <tr>\n",
       "      <th>3</th>\n",
       "      <td>3.24</td>\n",
       "      <td>0.0</td>\n",
       "      <td>2.18</td>\n",
       "      <td>0</td>\n",
       "      <td>6.998</td>\n",
       "      <td>45.8</td>\n",
       "      <td>6.0622</td>\n",
       "      <td>3</td>\n",
       "      <td>222</td>\n",
       "      <td>394.63</td>\n",
       "      <td>2.94</td>\n",
       "      <td>33.4</td>\n",
       "    </tr>\n",
       "    <tr>\n",
       "      <th>4</th>\n",
       "      <td>6.91</td>\n",
       "      <td>0.0</td>\n",
       "      <td>2.18</td>\n",
       "      <td>0</td>\n",
       "      <td>7.147</td>\n",
       "      <td>54.2</td>\n",
       "      <td>6.0622</td>\n",
       "      <td>3</td>\n",
       "      <td>222</td>\n",
       "      <td>396.90</td>\n",
       "      <td>5.33</td>\n",
       "      <td>36.2</td>\n",
       "    </tr>\n",
       "  </tbody>\n",
       "</table>\n",
       "</div>"
      ],
      "text/plain": [
       "   Sale  por_OS  por_NON  recc  avg_no_it   age     dis  diff_reg  tax  \\\n",
       "0  0.63    18.0     2.31     0      6.575  65.2  4.0900         1  296   \n",
       "1  2.73     0.0     7.07     0      6.421  78.9  4.9671         2  242   \n",
       "2  2.73     0.0     7.07     0      7.185  61.1  4.9671         2  242   \n",
       "3  3.24     0.0     2.18     0      6.998  45.8  6.0622         3  222   \n",
       "4  6.91     0.0     2.18     0      7.147  54.2  6.0622         3  222   \n",
       "\n",
       "       bk  lowstat  Median_s  \n",
       "0  396.90     4.98      24.0  \n",
       "1  396.90     9.14      21.6  \n",
       "2  392.83     4.03      34.7  \n",
       "3  394.63     2.94      33.4  \n",
       "4  396.90     5.33      36.2  "
      ]
     },
     "execution_count": 5,
     "metadata": {},
     "output_type": "execute_result"
    }
   ],
   "source": [
    "# Import the data set.\n",
    "df = pd.read_csv('ecommerce_data.csv')\n",
    "\n",
    "# View the DataFrame.\n",
    "df.head()"
   ]
  },
  {
   "cell_type": "code",
   "execution_count": 6,
   "id": "c60d6908",
   "metadata": {},
   "outputs": [
    {
     "data": {
      "text/plain": [
       "Sale         0\n",
       "por_OS       0\n",
       "por_NON      0\n",
       "recc         0\n",
       "avg_no_it    0\n",
       "age          0\n",
       "dis          0\n",
       "diff_reg     0\n",
       "tax          0\n",
       "bk           0\n",
       "lowstat      0\n",
       "Median_s     0\n",
       "dtype: int64"
      ]
     },
     "execution_count": 6,
     "metadata": {},
     "output_type": "execute_result"
    }
   ],
   "source": [
    "# Replace the missing values with 0.\n",
    "df.fillna(0, inplace=True)\n",
    "\n",
    "# Determine the number of missing values.\n",
    "df.isna().sum()"
   ]
  },
  {
   "cell_type": "code",
   "execution_count": 7,
   "id": "3674336e",
   "metadata": {},
   "outputs": [
    {
     "name": "stdout",
     "output_type": "stream",
     "text": [
      "<class 'pandas.core.frame.DataFrame'>\n",
      "RangeIndex: 506 entries, 0 to 505\n",
      "Data columns (total 12 columns):\n",
      " #   Column     Non-Null Count  Dtype  \n",
      "---  ------     --------------  -----  \n",
      " 0   Sale       506 non-null    float64\n",
      " 1   por_OS     506 non-null    float64\n",
      " 2   por_NON    506 non-null    float64\n",
      " 3   recc       506 non-null    int64  \n",
      " 4   avg_no_it  506 non-null    float64\n",
      " 5   age        506 non-null    float64\n",
      " 6   dis        506 non-null    float64\n",
      " 7   diff_reg   506 non-null    int64  \n",
      " 8   tax        506 non-null    int64  \n",
      " 9   bk         506 non-null    float64\n",
      " 10  lowstat    506 non-null    float64\n",
      " 11  Median_s   506 non-null    float64\n",
      "dtypes: float64(9), int64(3)\n",
      "memory usage: 47.6 KB\n"
     ]
    }
   ],
   "source": [
    "# View the metadata.\n",
    "df.info()"
   ]
  },
  {
   "cell_type": "markdown",
   "id": "a2b6ccab",
   "metadata": {},
   "source": [
    "## 3. Define the variables"
   ]
  },
  {
   "cell_type": "code",
   "execution_count": 8,
   "id": "d95605e9",
   "metadata": {},
   "outputs": [],
   "source": [
    "# Choose your variables.\n",
    "X = df['avg_no_it'].values.reshape(-1, 1) \n",
    "y = df['Median_s'].values.reshape(-1, 1) "
   ]
  },
  {
   "cell_type": "markdown",
   "id": "f90d0c31",
   "metadata": {},
   "source": [
    "## 4. Split the data set"
   ]
  },
  {
   "cell_type": "code",
   "execution_count": 9,
   "id": "d42e4559",
   "metadata": {},
   "outputs": [],
   "source": [
    "# Split the data into training = 0.7 and testing = 0.3 subsets.\n",
    "x_train, x_test, y_train, y_test = train_test_split(X, y,\n",
    "                                                    test_size=0.3,\n",
    "                                                    random_state=42)"
   ]
  },
  {
   "cell_type": "markdown",
   "id": "971e7c36",
   "metadata": {},
   "source": [
    "## 5. Run a linear equation"
   ]
  },
  {
   "cell_type": "code",
   "execution_count": 10,
   "id": "99ef8409",
   "metadata": {
    "tags": []
   },
   "outputs": [
    {
     "data": {
      "text/plain": [
       "array([[23.83943626],\n",
       "       [26.95782721],\n",
       "       [19.89129801],\n",
       "       [20.63898239],\n",
       "       [22.7543821 ],\n",
       "       [22.59025626],\n",
       "       [19.26214896],\n",
       "       [21.63285553],\n",
       "       [22.13435115],\n",
       "       [20.2924945 ],\n",
       "       [19.59951874],\n",
       "       [20.08277815],\n",
       "       [ 6.54239639],\n",
       "       [22.16170546],\n",
       "       [17.3838199 ],\n",
       "       [28.9820459 ],\n",
       "       [18.94301538],\n",
       "       [ 9.83403128],\n",
       "       [37.14274737],\n",
       "       [21.73315465],\n",
       "       [22.23465027],\n",
       "       [24.441231  ],\n",
       "       [17.42941041],\n",
       "       [25.45334035],\n",
       "       [20.10101436],\n",
       "       [14.82163319],\n",
       "       [18.89742487],\n",
       "       [26.68428415],\n",
       "       [19.68158166],\n",
       "       [18.16797669],\n",
       "       [16.143758  ],\n",
       "       [23.93061728],\n",
       "       [32.01837393],\n",
       "       [14.22895654],\n",
       "       [20.07366005],\n",
       "       [17.39293801],\n",
       "       [30.85125685],\n",
       "       [18.85183436],\n",
       "       [20.62986429],\n",
       "       [22.28024078],\n",
       "       [14.48426341],\n",
       "       [27.78757451],\n",
       "       [38.59252561],\n",
       "       [16.34435625],\n",
       "       [23.84855436],\n",
       "       [17.42941041],\n",
       "       [17.31999319],\n",
       "       [23.84855436],\n",
       "       [21.56902881],\n",
       "       [25.28921451],\n",
       "       [20.12836867],\n",
       "       [28.87262867],\n",
       "       [21.34107626],\n",
       "       [27.16754356],\n",
       "       [33.44991598],\n",
       "       [22.89115363],\n",
       "       [22.04317013],\n",
       "       [27.89699174],\n",
       "       [23.5932475 ],\n",
       "       [16.44465538],\n",
       "       [26.99429962],\n",
       "       [31.43481539],\n",
       "       [25.07949816],\n",
       "       [15.08605815],\n",
       "       [25.32568692],\n",
       "       [14.0648307 ],\n",
       "       [24.34093188],\n",
       "       [22.79997261],\n",
       "       [25.47157655],\n",
       "       [19.82747129],\n",
       "       [18.09503188],\n",
       "       [26.88488239],\n",
       "       [18.71506282],\n",
       "       [19.4627472 ],\n",
       "       [21.32284005],\n",
       "       [15.05870384],\n",
       "       [21.56902881],\n",
       "       [36.94214912],\n",
       "       [25.01567144],\n",
       "       [14.70309786],\n",
       "       [18.99772399],\n",
       "       [16.5540726 ],\n",
       "       [18.91566107],\n",
       "       [11.25645523],\n",
       "       [20.2560221 ],\n",
       "       [26.66604794],\n",
       "       [26.43809539],\n",
       "       [23.83031816],\n",
       "       [21.97022531],\n",
       "       [24.18592414],\n",
       "       [20.22866779],\n",
       "       [13.70010662],\n",
       "       [23.01880706],\n",
       "       [19.11625932],\n",
       "       [-2.19274551],\n",
       "       [23.43823976],\n",
       "       [22.01581582],\n",
       "       [ 7.53626953],\n",
       "       [24.24975086],\n",
       "       [26.03689889],\n",
       "       [20.18307728],\n",
       "       [22.65408297],\n",
       "       [13.70010662],\n",
       "       [18.53270078],\n",
       "       [20.32896691],\n",
       "       [20.98547027],\n",
       "       [17.55706385],\n",
       "       [23.97620779],\n",
       "       [20.38367553],\n",
       "       [23.53853889],\n",
       "       [21.43225728],\n",
       "       [27.81492882],\n",
       "       [22.87291743],\n",
       "       [21.35931246],\n",
       "       [30.6506586 ],\n",
       "       [21.942871  ],\n",
       "       [36.13975612],\n",
       "       [16.38994676],\n",
       "       [17.3747018 ],\n",
       "       [24.4321129 ],\n",
       "       [16.33523815],\n",
       "       [24.48682152],\n",
       "       [19.65422735],\n",
       "       [20.23778589],\n",
       "       [21.58726502],\n",
       "       [20.42014794],\n",
       "       [24.75124648],\n",
       "       [30.57771378],\n",
       "       [21.43225728],\n",
       "       [36.64125174],\n",
       "       [16.5176002 ],\n",
       "       [23.08263378],\n",
       "       [20.7028091 ],\n",
       "       [20.88517115],\n",
       "       [12.62417056],\n",
       "       [23.92149918],\n",
       "       [20.58427378],\n",
       "       [27.48667714],\n",
       "       [25.55363947],\n",
       "       [19.35332998],\n",
       "       [19.95512472],\n",
       "       [23.192051  ],\n",
       "       [18.10414998],\n",
       "       [14.61191684],\n",
       "       [15.76991581],\n",
       "       [22.31671319],\n",
       "       [21.22254093],\n",
       "       [23.74825524],\n",
       "       [18.34122063],\n",
       "       [44.89313423],\n",
       "       [24.0217983 ],\n",
       "       [22.3349494 ]])"
      ]
     },
     "execution_count": 10,
     "metadata": {},
     "output_type": "execute_result"
    }
   ],
   "source": [
    "# Run linear regression model.\n",
    "lr = LinearRegression()\n",
    "\n",
    "# Fit the model on the training data.\n",
    "lr.fit(x_train, y_train)\n",
    "\n",
    "# Predict is used for predicting on the x_test.\n",
    "y_pred = lr.predict(x_test)\n",
    "\n",
    "# View the output.\n",
    "y_pred"
   ]
  },
  {
   "cell_type": "markdown",
   "id": "31d7d744",
   "metadata": {},
   "source": [
    "## 6. Plot the regression"
   ]
  },
  {
   "cell_type": "code",
   "execution_count": 15,
   "id": "0380b297",
   "metadata": {},
   "outputs": [
    {
     "data": {
      "image/png": "[encoded data removed]",
      "text/plain": [
       "<Figure size 640x480 with 1 Axes>"
      ]
     },
     "metadata": {},
     "output_type": "display_data"
    }
   ],
   "source": [
    "# Visualise the training set.\n",
    "plt.scatter(x_train, y_train, color = 'red')\n",
    "plt.plot(x_train, lr.predict(x_train), color = 'green')\n",
    "plt.title(\"Avg no of items vs Median of Seller Business(Training Data)\")\n",
    "plt.xlabel(\"Avg no of items\")\n",
    "plt.ylabel(\"Median of Seller Business\")\n",
    "\n",
    "plt.show()"
   ]
  },
  {
   "cell_type": "code",
   "execution_count": 17,
   "id": "7846a2bc",
   "metadata": {},
   "outputs": [
    {
     "data": {
      "image/png": "[encoded data removed]",
      "text/plain": [
       "<Figure size 640x480 with 1 Axes>"
      ]
     },
     "metadata": {},
     "output_type": "display_data"
    }
   ],
   "source": [
    "# Visualise the test set.\n",
    "plt.scatter(x_test, y_test, color = 'red')\n",
    "plt.plot(x_train, lr.predict(x_train), color = 'green')\n",
    "plt.title(\"Avg no of items vs Median of Seller Business(Testing Data)\")\n",
    "plt.xlabel(\"Avg no of items\")\n",
    "plt.ylabel(\"Median of Seller Business\")\n",
    "\n",
    "plt.show()"
   ]
  },
  {
   "cell_type": "markdown",
   "id": "9b4e7c4d",
   "metadata": {},
   "source": [
    "# 7. Print the values"
   ]
  },
  {
   "cell_type": "code",
   "execution_count": 13,
   "id": "ce1b2e71",
   "metadata": {},
   "outputs": [
    {
     "name": "stdout",
     "output_type": "stream",
     "text": [
      "R-squared value:  0.45846499343030667\n",
      "Intercept value:  [-34.66230744]\n",
      "Coefficient value:  [[9.1181022]]\n"
     ]
    }
   ],
   "source": [
    "# Print the R-squared, intercept and coefficient value.\n",
    "print(\"R-squared value: \", lr.score(x_test, y_test))\n",
    "\n",
    "print(\"Intercept value: \", lr.intercept_)\n",
    "print(\"Coefficient value: \", lr.coef_)"
   ]
  },
  {
   "cell_type": "markdown",
   "id": "93a1aeba",
   "metadata": {},
   "source": [
    "#### Notes:\n",
    "- The R-squared tells us that the model is explaining 45.85% of the model.\n",
    "- The coefficient value of 9.12 tells us that as the `lowstat` variable increases by 1, the predicted value of `Median_s` increases by 9.12."
   ]
  },
  {
   "cell_type": "code",
   "execution_count": null,
   "id": "6c17a6e6",
   "metadata": {},
   "outputs": [],
   "source": []
  }
 ],
 "metadata": {
  "kernelspec": {
   "display_name": "Python 3 (ipykernel)",
   "language": "python",
   "name": "python3"
  },
  "language_info": {
   "codemirror_mode": {
    "name": "ipython",
    "version": 3
   },
   "file_extension": ".py",
   "mimetype": "text/x-python",
   "name": "python",
   "nbconvert_exporter": "python",
   "pygments_lexer": "ipython3",
   "version": "3.9.13"
  }
 },
 "nbformat": 4,
 "nbformat_minor": 5
}
