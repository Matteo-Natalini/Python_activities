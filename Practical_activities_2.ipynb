{
 "cells": [
  {
   "cell_type": "markdown",
   "id": "61f955bb-820a-43f6-9ed9-fce0370459b1",
   "metadata": {},
   "source": [
    "# 2.1.10 Practical activity: Importing data"
   ]
  },
  {
   "cell_type": "code",
   "execution_count": 3,
   "id": "21079047-3f38-404b-bdc2-590f182912c8",
   "metadata": {},
   "outputs": [],
   "source": [
    "import numpy as np\n",
    "import pandas as pd"
   ]
  },
  {
   "cell_type": "code",
   "execution_count": 4,
   "id": "6a1cc708-cb9f-4f69-bc1c-caa9d1c61c7c",
   "metadata": {},
   "outputs": [
    {
     "data": {
      "text/html": [
       "<div>\n",
       "<style scoped>\n",
       "    .dataframe tbody tr th:only-of-type {\n",
       "        vertical-align: middle;\n",
       "    }\n",
       "\n",
       "    .dataframe tbody tr th {\n",
       "        vertical-align: top;\n",
       "    }\n",
       "\n",
       "    .dataframe thead th {\n",
       "        text-align: right;\n",
       "    }\n",
       "</style>\n",
       "<table border=\"1\" class=\"dataframe\">\n",
       "  <thead>\n",
       "    <tr style=\"text-align: right;\">\n",
       "      <th></th>\n",
       "      <th>Title</th>\n",
       "      <th>Year</th>\n",
       "      <th>Age</th>\n",
       "      <th>IMDb</th>\n",
       "      <th>Rotten Tomatoes</th>\n",
       "      <th>Directors</th>\n",
       "      <th>Genres</th>\n",
       "      <th>Country</th>\n",
       "      <th>Language</th>\n",
       "      <th>Runtime</th>\n",
       "    </tr>\n",
       "  </thead>\n",
       "  <tbody>\n",
       "    <tr>\n",
       "      <th>0</th>\n",
       "      <td>Inception</td>\n",
       "      <td>2010</td>\n",
       "      <td>13+</td>\n",
       "      <td>8.8</td>\n",
       "      <td>0.87</td>\n",
       "      <td>Christopher Nolan</td>\n",
       "      <td>Action,Adventure,Sci-Fi,Thriller</td>\n",
       "      <td>United States,United Kingdom</td>\n",
       "      <td>English,Japanese,French</td>\n",
       "      <td>148.0</td>\n",
       "    </tr>\n",
       "    <tr>\n",
       "      <th>1</th>\n",
       "      <td>The Matrix</td>\n",
       "      <td>1999</td>\n",
       "      <td>18+</td>\n",
       "      <td>8.7</td>\n",
       "      <td>0.87</td>\n",
       "      <td>Lana Wachowski,Lilly Wachowski</td>\n",
       "      <td>Action,Sci-Fi</td>\n",
       "      <td>United States</td>\n",
       "      <td>English</td>\n",
       "      <td>136.0</td>\n",
       "    </tr>\n",
       "    <tr>\n",
       "      <th>2</th>\n",
       "      <td>Avengers: Infinity War</td>\n",
       "      <td>2018</td>\n",
       "      <td>13+</td>\n",
       "      <td>8.5</td>\n",
       "      <td>0.84</td>\n",
       "      <td>Anthony Russo,Joe Russo</td>\n",
       "      <td>Action,Adventure,Sci-Fi</td>\n",
       "      <td>United States</td>\n",
       "      <td>English</td>\n",
       "      <td>149.0</td>\n",
       "    </tr>\n",
       "    <tr>\n",
       "      <th>3</th>\n",
       "      <td>Back to the Future</td>\n",
       "      <td>1985</td>\n",
       "      <td>7+</td>\n",
       "      <td>8.5</td>\n",
       "      <td>0.96</td>\n",
       "      <td>Robert Zemeckis</td>\n",
       "      <td>Adventure,Comedy,Sci-Fi</td>\n",
       "      <td>United States</td>\n",
       "      <td>English</td>\n",
       "      <td>116.0</td>\n",
       "    </tr>\n",
       "    <tr>\n",
       "      <th>4</th>\n",
       "      <td>The Good, the Bad and the Ugly</td>\n",
       "      <td>1966</td>\n",
       "      <td>18+</td>\n",
       "      <td>8.8</td>\n",
       "      <td>0.97</td>\n",
       "      <td>Sergio Leone</td>\n",
       "      <td>Western</td>\n",
       "      <td>Italy,Spain,West Germany</td>\n",
       "      <td>Italian</td>\n",
       "      <td>161.0</td>\n",
       "    </tr>\n",
       "  </tbody>\n",
       "</table>\n",
       "</div>"
      ],
      "text/plain": [
       "                            Title  Year  Age  IMDb  Rotten Tomatoes  \\\n",
       "0                       Inception  2010  13+   8.8             0.87   \n",
       "1                      The Matrix  1999  18+   8.7             0.87   \n",
       "2          Avengers: Infinity War  2018  13+   8.5             0.84   \n",
       "3              Back to the Future  1985   7+   8.5             0.96   \n",
       "4  The Good, the Bad and the Ugly  1966  18+   8.8             0.97   \n",
       "\n",
       "                        Directors                            Genres  \\\n",
       "0               Christopher Nolan  Action,Adventure,Sci-Fi,Thriller   \n",
       "1  Lana Wachowski,Lilly Wachowski                     Action,Sci-Fi   \n",
       "2         Anthony Russo,Joe Russo           Action,Adventure,Sci-Fi   \n",
       "3                 Robert Zemeckis           Adventure,Comedy,Sci-Fi   \n",
       "4                    Sergio Leone                           Western   \n",
       "\n",
       "                        Country                 Language  Runtime  \n",
       "0  United States,United Kingdom  English,Japanese,French    148.0  \n",
       "1                 United States                  English    136.0  \n",
       "2                 United States                  English    149.0  \n",
       "3                 United States                  English    116.0  \n",
       "4      Italy,Spain,West Germany                  Italian    161.0  "
      ]
     },
     "execution_count": 4,
     "metadata": {},
     "output_type": "execute_result"
    }
   ],
   "source": [
    "# Read the files\n",
    "movies = pd.read_excel('movies.xlsx')\n",
    "\n",
    "# View the DataFrame\n",
    "movies.head()\n"
   ]
  },
  {
   "cell_type": "code",
   "execution_count": 5,
   "id": "b058b5cb-4c22-4d91-8461-d2e871ca1712",
   "metadata": {},
   "outputs": [
    {
     "data": {
      "text/plain": [
       "(16744, 10)"
      ]
     },
     "execution_count": 5,
     "metadata": {},
     "output_type": "execute_result"
    }
   ],
   "source": [
    "movies.shape"
   ]
  },
  {
   "cell_type": "code",
   "execution_count": 6,
   "id": "5542dfed-0870-4071-9332-85145a37d306",
   "metadata": {},
   "outputs": [
    {
     "data": {
      "text/plain": [
       "Title               object\n",
       "Year                 int64\n",
       "Age                 object\n",
       "IMDb               float64\n",
       "Rotten Tomatoes    float64\n",
       "Directors           object\n",
       "Genres              object\n",
       "Country             object\n",
       "Language            object\n",
       "Runtime            float64\n",
       "dtype: object"
      ]
     },
     "execution_count": 6,
     "metadata": {},
     "output_type": "execute_result"
    }
   ],
   "source": [
    "movies.dtypes"
   ]
  },
  {
   "cell_type": "code",
   "execution_count": 7,
   "id": "37c12642-0064-4227-98c1-92f519e24e2a",
   "metadata": {},
   "outputs": [
    {
     "data": {
      "text/plain": [
       "<bound method NDFrame.head of           ID  Netflix  Hulu  Prime Video  Disney+\n",
       "0          1        0     0            1        0\n",
       "1          2        0     1            0        0\n",
       "2          3        0     0            1        0\n",
       "3          4        1     0            0        0\n",
       "4          5        0     0            1        0\n",
       "...      ...      ...   ...          ...      ...\n",
       "16739  16740        0     0            1        0\n",
       "16740  16741        0     0            1        0\n",
       "16741  16742        0     0            1        0\n",
       "16742  16743        0     0            1        0\n",
       "16743  16744        1     0            0        0\n",
       "\n",
       "[16744 rows x 5 columns]>"
      ]
     },
     "execution_count": 7,
     "metadata": {},
     "output_type": "execute_result"
    }
   ],
   "source": [
    "# Read the files\n",
    "ott = pd.read_csv('ott.csv')\n",
    "\n",
    "# View the DataFrame\n",
    "ott.head\n"
   ]
  },
  {
   "cell_type": "code",
   "execution_count": 8,
   "id": "336c9d17-4601-4c8d-aaf2-72b9999af759",
   "metadata": {},
   "outputs": [
    {
     "data": {
      "text/plain": [
       "(16744, 5)"
      ]
     },
     "execution_count": 8,
     "metadata": {},
     "output_type": "execute_result"
    }
   ],
   "source": [
    "ott.shape"
   ]
  },
  {
   "cell_type": "code",
   "execution_count": 9,
   "id": "d52a1d6d-6621-4906-829a-cba7d9ad26c1",
   "metadata": {},
   "outputs": [
    {
     "data": {
      "text/plain": [
       "ID             int64\n",
       "Netflix        int64\n",
       "Hulu           int64\n",
       "Prime Video    int64\n",
       "Disney+        int64\n",
       "dtype: object"
      ]
     },
     "execution_count": 9,
     "metadata": {},
     "output_type": "execute_result"
    }
   ],
   "source": [
    "ott.dtypes"
   ]
  },
  {
   "cell_type": "markdown",
   "id": "edb2ab44-49d1-40de-b831-c9d5779c712e",
   "metadata": {},
   "source": [
    "# 2.2.8 Practical activity: Handle the missing data"
   ]
  },
  {
   "cell_type": "code",
   "execution_count": 10,
   "id": "0009991d-d25e-46be-9d96-8adc2999f911",
   "metadata": {},
   "outputs": [
    {
     "data": {
      "text/plain": [
       "9390"
      ]
     },
     "execution_count": 10,
     "metadata": {},
     "output_type": "execute_result"
    }
   ],
   "source": [
    "# Calculate the sum of the missing data in the Age column\n",
    "movies['Age'].isnull().sum()"
   ]
  },
  {
   "cell_type": "code",
   "execution_count": 11,
   "id": "3dd4d273-f674-424d-b233-e8869380767e",
   "metadata": {},
   "outputs": [
    {
     "name": "stderr",
     "output_type": "stream",
     "text": [
      "C:\\Users\\lxmas\\AppData\\Local\\Temp\\ipykernel_15980\\747296980.py:2: SettingWithCopyWarning: \n",
      "A value is trying to be set on a copy of a slice from a DataFrame\n",
      "\n",
      "See the caveats in the documentation: https://pandas.pydata.org/pandas-docs/stable/user_guide/indexing.html#returning-a-view-versus-a-copy\n",
      "  movies['Age'][movies['Age'].isna()] = 'Others'\n"
     ]
    },
    {
     "data": {
      "text/plain": [
       "0"
      ]
     },
     "execution_count": 11,
     "metadata": {},
     "output_type": "execute_result"
    }
   ],
   "source": [
    "# Assign specific values to the missing values in the Age column\n",
    "movies['Age'][movies['Age'].isna()] = 'Others'\n",
    "                     \n",
    "movies['Age'].isnull().sum()                     "
   ]
  },
  {
   "cell_type": "code",
   "execution_count": 12,
   "id": "182b7b41-bb9f-4d6d-92d0-56bf0d354c8c",
   "metadata": {},
   "outputs": [
    {
     "name": "stderr",
     "output_type": "stream",
     "text": [
      "C:\\Users\\lxmas\\AppData\\Local\\Temp\\ipykernel_15980\\3164004631.py:1: SettingWithCopyWarning: \n",
      "A value is trying to be set on a copy of a slice from a DataFrame\n",
      "\n",
      "See the caveats in the documentation: https://pandas.pydata.org/pandas-docs/stable/user_guide/indexing.html#returning-a-view-versus-a-copy\n",
      "  movies['Directors'][movies['Directors'].isna()] = \"Others\"\n",
      "C:\\Users\\lxmas\\AppData\\Local\\Temp\\ipykernel_15980\\3164004631.py:3: SettingWithCopyWarning: \n",
      "A value is trying to be set on a copy of a slice from a DataFrame\n",
      "\n",
      "See the caveats in the documentation: https://pandas.pydata.org/pandas-docs/stable/user_guide/indexing.html#returning-a-view-versus-a-copy\n",
      "  movies['Genres'][movies['Genres'].isna()] = \"Others\"\n",
      "C:\\Users\\lxmas\\AppData\\Local\\Temp\\ipykernel_15980\\3164004631.py:5: SettingWithCopyWarning: \n",
      "A value is trying to be set on a copy of a slice from a DataFrame\n",
      "\n",
      "See the caveats in the documentation: https://pandas.pydata.org/pandas-docs/stable/user_guide/indexing.html#returning-a-view-versus-a-copy\n",
      "  movies['Country'][movies['Country'].isna()] = \"Others\"\n",
      "C:\\Users\\lxmas\\AppData\\Local\\Temp\\ipykernel_15980\\3164004631.py:7: SettingWithCopyWarning: \n",
      "A value is trying to be set on a copy of a slice from a DataFrame\n",
      "\n",
      "See the caveats in the documentation: https://pandas.pydata.org/pandas-docs/stable/user_guide/indexing.html#returning-a-view-versus-a-copy\n",
      "  movies['Language'][movies['Language'].isna()] = \"Others\"\n"
     ]
    }
   ],
   "source": [
    "movies['Directors'][movies['Directors'].isna()] = \"Others\"\n",
    "\n",
    "movies['Genres'][movies['Genres'].isna()] = \"Others\"\n",
    "\n",
    "movies['Country'][movies['Country'].isna()] = \"Others\"\n",
    "\n",
    "movies['Language'][movies['Language'].isna()] = \"Others\""
   ]
  },
  {
   "cell_type": "code",
   "execution_count": 13,
   "id": "ab831d99-befd-4289-a394-f32750a2f0a7",
   "metadata": {},
   "outputs": [
    {
     "data": {
      "text/plain": [
       "11586"
      ]
     },
     "execution_count": 13,
     "metadata": {},
     "output_type": "execute_result"
    }
   ],
   "source": [
    "# Identify missing values for the IMDb and Rotten Tomatoes rating columns.\n",
    "movies['Rotten Tomatoes'].isnull().sum()"
   ]
  },
  {
   "cell_type": "code",
   "execution_count": 14,
   "id": "05b3f1a4-b962-491e-b4fe-d4de1d54523c",
   "metadata": {},
   "outputs": [
    {
     "data": {
      "text/plain": [
       "571"
      ]
     },
     "execution_count": 14,
     "metadata": {},
     "output_type": "execute_result"
    }
   ],
   "source": [
    "movies['IMDb'].isnull().sum()"
   ]
  },
  {
   "cell_type": "code",
   "execution_count": 15,
   "id": "d030c059-7091-4361-99f1-cff4c1b622c2",
   "metadata": {},
   "outputs": [
    {
     "name": "stdout",
     "output_type": "stream",
     "text": [
      "0\n",
      "0\n"
     ]
    }
   ],
   "source": [
    "# Replace the null values for both the columns with mean using inplace=True.\n",
    "movies['IMDb'].fillna(movies['IMDb'].mean(),inplace=True)\n",
    "\n",
    "movies['Rotten Tomatoes'].fillna(movies['Rotten Tomatoes'].mean(),inplace=True)\n",
    "\n",
    "# Check the data to see if there are any more null values identified in the DataFrames.\n",
    "\n",
    "print(movies['IMDb'].isnull().sum())\n",
    "\n",
    "print(movies['Rotten Tomatoes'].isnull().sum())"
   ]
  },
  {
   "cell_type": "markdown",
   "id": "e429cf94-152a-4e73-9e50-9055f0f96819",
   "metadata": {},
   "source": [
    "# 2.3.6 Practical activity: Filter the data"
   ]
  },
  {
   "cell_type": "code",
   "execution_count": 19,
   "id": "dbe82d74-b29f-41dc-a829-e23a3ef51920",
   "metadata": {},
   "outputs": [
    {
     "name": "stdout",
     "output_type": "stream",
     "text": [
      "<class 'pandas.core.frame.DataFrame'>\n",
      "RangeIndex: 16744 entries, 0 to 16743\n",
      "Data columns (total 10 columns):\n",
      " #   Column           Non-Null Count  Dtype  \n",
      "---  ------           --------------  -----  \n",
      " 0   Title            16744 non-null  object \n",
      " 1   Year             16744 non-null  int64  \n",
      " 2   Age              16744 non-null  object \n",
      " 3   IMDb             16744 non-null  float64\n",
      " 4   Rotten Tomatoes  16744 non-null  float64\n",
      " 5   Directors        16744 non-null  object \n",
      " 6   Genres           16744 non-null  object \n",
      " 7   Country          16744 non-null  object \n",
      " 8   Language         16744 non-null  object \n",
      " 9   Runtime          16152 non-null  float64\n",
      "dtypes: float64(3), int64(1), object(6)\n",
      "memory usage: 1.3+ MB\n",
      "<class 'pandas.core.frame.DataFrame'>\n",
      "RangeIndex: 16744 entries, 0 to 16743\n",
      "Data columns (total 5 columns):\n",
      " #   Column       Non-Null Count  Dtype\n",
      "---  ------       --------------  -----\n",
      " 0   ID           16744 non-null  int64\n",
      " 1   Netflix      16744 non-null  int64\n",
      " 2   Hulu         16744 non-null  int64\n",
      " 3   Prime Video  16744 non-null  int64\n",
      " 4   Disney+      16744 non-null  int64\n",
      "dtypes: int64(5)\n",
      "memory usage: 654.2 KB\n"
     ]
    }
   ],
   "source": [
    "# 1.Determine the column names and data types of the DataFrame\n",
    "\n",
    "movies.info()\n",
    "\n",
    "ott.info()"
   ]
  },
  {
   "cell_type": "code",
   "execution_count": 22,
   "id": "dc382996-36b9-446a-bb33-a60badb22b9b",
   "metadata": {},
   "outputs": [
    {
     "data": {
      "text/html": [
       "<div>\n",
       "<style scoped>\n",
       "    .dataframe tbody tr th:only-of-type {\n",
       "        vertical-align: middle;\n",
       "    }\n",
       "\n",
       "    .dataframe tbody tr th {\n",
       "        vertical-align: top;\n",
       "    }\n",
       "\n",
       "    .dataframe thead th {\n",
       "        text-align: right;\n",
       "    }\n",
       "</style>\n",
       "<table border=\"1\" class=\"dataframe\">\n",
       "  <thead>\n",
       "    <tr style=\"text-align: right;\">\n",
       "      <th></th>\n",
       "      <th>IMDb</th>\n",
       "      <th>Rotten Tomatoes</th>\n",
       "      <th>Runtime</th>\n",
       "    </tr>\n",
       "  </thead>\n",
       "  <tbody>\n",
       "    <tr>\n",
       "      <th>0</th>\n",
       "      <td>8.800000</td>\n",
       "      <td>0.870000</td>\n",
       "      <td>148.0</td>\n",
       "    </tr>\n",
       "    <tr>\n",
       "      <th>1</th>\n",
       "      <td>8.700000</td>\n",
       "      <td>0.870000</td>\n",
       "      <td>136.0</td>\n",
       "    </tr>\n",
       "    <tr>\n",
       "      <th>2</th>\n",
       "      <td>8.500000</td>\n",
       "      <td>0.840000</td>\n",
       "      <td>149.0</td>\n",
       "    </tr>\n",
       "    <tr>\n",
       "      <th>3</th>\n",
       "      <td>8.500000</td>\n",
       "      <td>0.960000</td>\n",
       "      <td>116.0</td>\n",
       "    </tr>\n",
       "    <tr>\n",
       "      <th>4</th>\n",
       "      <td>8.800000</td>\n",
       "      <td>0.970000</td>\n",
       "      <td>161.0</td>\n",
       "    </tr>\n",
       "    <tr>\n",
       "      <th>...</th>\n",
       "      <td>...</td>\n",
       "      <td>...</td>\n",
       "      <td>...</td>\n",
       "    </tr>\n",
       "    <tr>\n",
       "      <th>16739</th>\n",
       "      <td>6.200000</td>\n",
       "      <td>0.654285</td>\n",
       "      <td>120.0</td>\n",
       "    </tr>\n",
       "    <tr>\n",
       "      <th>16740</th>\n",
       "      <td>4.700000</td>\n",
       "      <td>0.654285</td>\n",
       "      <td>90.0</td>\n",
       "    </tr>\n",
       "    <tr>\n",
       "      <th>16741</th>\n",
       "      <td>5.700000</td>\n",
       "      <td>0.654285</td>\n",
       "      <td>NaN</td>\n",
       "    </tr>\n",
       "    <tr>\n",
       "      <th>16742</th>\n",
       "      <td>6.600000</td>\n",
       "      <td>0.654285</td>\n",
       "      <td>NaN</td>\n",
       "    </tr>\n",
       "    <tr>\n",
       "      <th>16743</th>\n",
       "      <td>5.902751</td>\n",
       "      <td>0.654285</td>\n",
       "      <td>32.0</td>\n",
       "    </tr>\n",
       "  </tbody>\n",
       "</table>\n",
       "<p>16744 rows × 3 columns</p>\n",
       "</div>"
      ],
      "text/plain": [
       "           IMDb  Rotten Tomatoes  Runtime\n",
       "0      8.800000         0.870000    148.0\n",
       "1      8.700000         0.870000    136.0\n",
       "2      8.500000         0.840000    149.0\n",
       "3      8.500000         0.960000    116.0\n",
       "4      8.800000         0.970000    161.0\n",
       "...         ...              ...      ...\n",
       "16739  6.200000         0.654285    120.0\n",
       "16740  4.700000         0.654285     90.0\n",
       "16741  5.700000         0.654285      NaN\n",
       "16742  6.600000         0.654285      NaN\n",
       "16743  5.902751         0.654285     32.0\n",
       "\n",
       "[16744 rows x 3 columns]"
      ]
     },
     "execution_count": 22,
     "metadata": {},
     "output_type": "execute_result"
    }
   ],
   "source": [
    "# 2.Filter the DataFrame to only work with the numeric variables. \n",
    "\n",
    "movies_num = movies.select_dtypes('number')\n",
    "\n",
    "movies_num = movies_num.drop('Year', axis = 1)\n",
    "\n",
    "movies_num\n",
    "\n"
   ]
  },
  {
   "cell_type": "code",
   "execution_count": 27,
   "id": "5089f529-fa53-456a-b1ff-219673cae318",
   "metadata": {},
   "outputs": [
    {
     "name": "stdout",
     "output_type": "stream",
     "text": [
      "1.8000000000000007\n",
      "0.0\n",
      "22.0\n",
      "IMDb                5.100000\n",
      "Rotten Tomatoes     0.654285\n",
      "Runtime            82.000000\n",
      "Name: 0.25, dtype: float64\n",
      "IMDb                 6.900000\n",
      "Rotten Tomatoes      0.654285\n",
      "Runtime            104.000000\n",
      "Name: 0.75, dtype: float64\n"
     ]
    }
   ],
   "source": [
    "# 3.Calculate the IQR (Q1 and Q3) of each column, except the Year column\n",
    "\n",
    "# Calculate Q1 and Q3.\n",
    "Q1 = movies_num.quantile(0.25)\n",
    "Q3 = movies_num.quantile(0.75)\n",
    "\n",
    "# View the output\n",
    "print(Q1)\n",
    "print(Q3)"
   ]
  },
  {
   "cell_type": "code",
   "execution_count": 28,
   "id": "483dad6f-782a-4f73-97d0-91515af7f576",
   "metadata": {},
   "outputs": [
    {
     "name": "stdout",
     "output_type": "stream",
     "text": [
      "IMDb                1.8\n",
      "Rotten Tomatoes     0.0\n",
      "Runtime            22.0\n",
      "dtype: float64\n"
     ]
    }
   ],
   "source": [
    "# Calculate the IQR.\n",
    "IQR = Q3 - Q1\n",
    "\n",
    "# View the output.\n",
    "print(IQR)"
   ]
  },
  {
   "cell_type": "code",
   "execution_count": 29,
   "id": "cd177a06-62ff-45b7-b18a-73a5e7fb5382",
   "metadata": {},
   "outputs": [
    {
     "data": {
      "text/html": [
       "<div>\n",
       "<style scoped>\n",
       "    .dataframe tbody tr th:only-of-type {\n",
       "        vertical-align: middle;\n",
       "    }\n",
       "\n",
       "    .dataframe tbody tr th {\n",
       "        vertical-align: top;\n",
       "    }\n",
       "\n",
       "    .dataframe thead th {\n",
       "        text-align: right;\n",
       "    }\n",
       "</style>\n",
       "<table border=\"1\" class=\"dataframe\">\n",
       "  <thead>\n",
       "    <tr style=\"text-align: right;\">\n",
       "      <th></th>\n",
       "      <th>IMDb</th>\n",
       "      <th>Rotten Tomatoes</th>\n",
       "      <th>Runtime</th>\n",
       "    </tr>\n",
       "  </thead>\n",
       "  <tbody>\n",
       "    <tr>\n",
       "      <th>count</th>\n",
       "      <td>16744.000000</td>\n",
       "      <td>16744.000000</td>\n",
       "      <td>16152.000000</td>\n",
       "    </tr>\n",
       "    <tr>\n",
       "      <th>mean</th>\n",
       "      <td>5.902751</td>\n",
       "      <td>0.654285</td>\n",
       "      <td>93.413447</td>\n",
       "    </tr>\n",
       "    <tr>\n",
       "      <th>std</th>\n",
       "      <td>1.324684</td>\n",
       "      <td>0.147707</td>\n",
       "      <td>28.219222</td>\n",
       "    </tr>\n",
       "    <tr>\n",
       "      <th>min</th>\n",
       "      <td>0.000000</td>\n",
       "      <td>0.020000</td>\n",
       "      <td>1.000000</td>\n",
       "    </tr>\n",
       "    <tr>\n",
       "      <th>25%</th>\n",
       "      <td>5.100000</td>\n",
       "      <td>0.654285</td>\n",
       "      <td>82.000000</td>\n",
       "    </tr>\n",
       "    <tr>\n",
       "      <th>50%</th>\n",
       "      <td>6.000000</td>\n",
       "      <td>0.654285</td>\n",
       "      <td>92.000000</td>\n",
       "    </tr>\n",
       "    <tr>\n",
       "      <th>75%</th>\n",
       "      <td>6.900000</td>\n",
       "      <td>0.654285</td>\n",
       "      <td>104.000000</td>\n",
       "    </tr>\n",
       "    <tr>\n",
       "      <th>max</th>\n",
       "      <td>9.300000</td>\n",
       "      <td>1.000000</td>\n",
       "      <td>1256.000000</td>\n",
       "    </tr>\n",
       "  </tbody>\n",
       "</table>\n",
       "</div>"
      ],
      "text/plain": [
       "               IMDb  Rotten Tomatoes       Runtime\n",
       "count  16744.000000     16744.000000  16152.000000\n",
       "mean       5.902751         0.654285     93.413447\n",
       "std        1.324684         0.147707     28.219222\n",
       "min        0.000000         0.020000      1.000000\n",
       "25%        5.100000         0.654285     82.000000\n",
       "50%        6.000000         0.654285     92.000000\n",
       "75%        6.900000         0.654285    104.000000\n",
       "max        9.300000         1.000000   1256.000000"
      ]
     },
     "execution_count": 29,
     "metadata": {},
     "output_type": "execute_result"
    }
   ],
   "source": [
    "# Determine the descriptive statistics.\n",
    "movies_num.describe()"
   ]
  },
  {
   "cell_type": "code",
   "execution_count": null,
   "id": "c5a6ca05-7183-4fea-a346-ec8efd8bf2d0",
   "metadata": {},
   "outputs": [],
   "source": []
  }
 ],
 "metadata": {
  "kernelspec": {
   "display_name": "Python 3 (ipykernel)",
   "language": "python",
   "name": "python3"
  },
  "language_info": {
   "codemirror_mode": {
    "name": "ipython",
    "version": 3
   },
   "file_extension": ".py",
   "mimetype": "text/x-python",
   "name": "python",
   "nbconvert_exporter": "python",
   "pygments_lexer": "ipython3",
   "version": "3.9.13"
  }
 },
 "nbformat": 4,
 "nbformat_minor": 5
}
