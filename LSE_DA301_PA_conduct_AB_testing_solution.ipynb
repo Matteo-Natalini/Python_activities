{
  "metadata": {
    "kernelspec": {
      "name": "python",
      "display_name": "Python (Pyodide)",
      "language": "python"
    },
    "language_info": {
      "codemirror_mode": {
        "name": "python",
        "version": 3
      },
      "file_extension": ".py",
      "mimetype": "text/x-python",
      "name": "python",
      "nbconvert_exporter": "python",
      "pygments_lexer": "ipython3",
      "version": "3.8"
    }
  },
  "nbformat_minor": 5,
  "nbformat": 4,
  "cells": [
    {
      "cell_type": "markdown",
      "source": "### LSE Data Analytics Online Career Accelerator \n# Course 301: Advanced Analytics for Organisational Impact",
      "metadata": {},
      "id": "94199fa3"
    },
    {
      "cell_type": "markdown",
      "source": "## Practical activity: Conduct A/B testing in Python",
      "metadata": {},
      "id": "46fcc342"
    },
    {
      "cell_type": "markdown",
      "source": "**This is the solution to the activity.**\n\nAn online bicycle store has changed its home page interface to encourage visitors to click through to its loyalty programme sign-up page. It is hoping the new interface will encourage more visitors to access the loyalty programme page, see what benefits the programme brings, and hopefully then sign up. The current click-through rate (CTR) sits at around 50% annually, and the company hopes the new design will push this to at least 55%. \n\nThis analysis uses the `bike_shop.csv` data set. Using your Python and data wrangling skills, you will run an A/B test on the data to measure the significance of the interface change based on CTR to the loyalty programme page. ",
      "metadata": {},
      "id": "26969258"
    },
    {
      "cell_type": "markdown",
      "source": "## 1. Prepare your workstation",
      "metadata": {},
      "id": "e0ec3ed0"
    },
    {
      "cell_type": "code",
      "source": "# Import the necessary libraries.\nimport statsmodels.stats.api as sms\nfrom statsmodels.stats.power import TTestIndPower",
      "metadata": {},
      "execution_count": null,
      "outputs": [],
      "id": "19b7bc2c"
    },
    {
      "cell_type": "markdown",
      "source": "## 2. Perform power analysis",
      "metadata": {},
      "id": "8a657692"
    },
    {
      "cell_type": "code",
      "source": "# Perform the power analysis to determine sample size.\neffect = sms.proportion_effectsize(0.50, 0.55)   \n \neffect,\nalpha = 0.05\npower = 0.8\n\nanalysis = TTestIndPower()\nresult = analysis.solve_power(effect, power=power,\n                              nobs1=None, ratio=1.0,\n                              alpha=alpha)\n\nprint('Sample Size: %.3f' % result)",
      "metadata": {},
      "execution_count": null,
      "outputs": [],
      "id": "78df595c"
    },
    {
      "cell_type": "markdown",
      "source": "## 3. Import data set",
      "metadata": {},
      "id": "3d7fb98e"
    },
    {
      "cell_type": "code",
      "source": "# Import the necessary libraries.\nimport pandas as pd\nimport math\nimport numpy as np\nimport statsmodels.stats.api as sms\nimport scipy.stats as st\nimport matplotlib as mpl\nimport matplotlib.pyplot as plt",
      "metadata": {},
      "execution_count": null,
      "outputs": [],
      "id": "a792761a"
    },
    {
      "cell_type": "code",
      "source": "# Read the data set with Pandas.\ndf = pd.read_csv('bike_shop.csv')\n\n# Print the DataFrame.\nprint(df.shape)\ndf.head()",
      "metadata": {},
      "execution_count": null,
      "outputs": [],
      "id": "f13db332"
    },
    {
      "cell_type": "code",
      "source": "# View the DataFrame.\ndf.info()",
      "metadata": {},
      "execution_count": null,
      "outputs": [],
      "id": "9e5bf6cb"
    },
    {
      "cell_type": "markdown",
      "source": "## 4. Clean the data",
      "metadata": {},
      "id": "60f15937"
    },
    {
      "cell_type": "code",
      "source": "# Rename the columns.\ndf_new = df.rename(columns={'IP Address': 'IPAddress',\n                            'LoggedInFlag': 'LoyaltyPage'})\n\n# View the DataFrame.\nprint(df_new.shape)\nprint(df_new.head())\ndf_new.info()",
      "metadata": {},
      "execution_count": null,
      "outputs": [],
      "id": "94971627"
    },
    {
      "cell_type": "code",
      "source": "# Drop duplicate values.\ndf_new.drop_duplicates(subset ='IPAddress',\n                       keep = False,\n                       inplace = True)\n\n\n# Drop duplicate columns.\ndf_final = df_new.drop(['RecordID', 'VisitPageFlag'],\n                       axis=1)\n\n\n# View the DataFrame.\nprint(df_final.shape)\nprint(df_final.head())\ndf_final.info()",
      "metadata": {},
      "execution_count": null,
      "outputs": [],
      "id": "4cba55ea"
    },
    {
      "cell_type": "markdown",
      "source": "## 5. Subset the DataFrame",
      "metadata": {},
      "id": "2d304a09"
    },
    {
      "cell_type": "code",
      "source": "# Split the data set into ID1 as treatment and ID2 & ID3 as control groups.\ndf_final['Group'] = df_final['ServerID'].map({1:'Treatment',\n                                              2:'Control',\n                                              3:'Control'})\n\n# View the DataFrame.\nprint(df_final.shape)\ndf_final.head()",
      "metadata": {},
      "execution_count": null,
      "outputs": [],
      "id": "b28e4b1d"
    },
    {
      "cell_type": "code",
      "source": "# Count the values.\ndf_final['Group'].value_counts()",
      "metadata": {},
      "execution_count": null,
      "outputs": [],
      "id": "ca5f29ea"
    },
    {
      "cell_type": "code",
      "source": "# Create two DataFrames.\n# You can use any random_state.\nc_sample = df_final[df_final['Group'] == 'Control'].sample(n=1566,\n                                                           random_state=42) \n\nt_sample = df_final[df_final['Group'] == 'Treatment'].sample(n=1566,\n                                                             random_state=42)\n\n# View the DataFrames.\nprint(c_sample.head())\nt_sample.head()",
      "metadata": {},
      "execution_count": null,
      "outputs": [],
      "id": "7d0e36f6"
    },
    {
      "cell_type": "markdown",
      "source": "## 6. Perform A/B testing",
      "metadata": {},
      "id": "055466e6"
    },
    {
      "cell_type": "code",
      "source": "# Perform A/B testing.\n# Create variable and merge DataFrames.\nab_test = pd.concat([c_sample, t_sample], axis=0)\n\nab_test.reset_index(drop=True, inplace=True)\n\n# View the output.\nab_test.head()",
      "metadata": {},
      "execution_count": null,
      "outputs": [],
      "id": "3508c2a0"
    },
    {
      "cell_type": "code",
      "source": "# Calculate the conversion rates.\nconversion_rates = ab_test.groupby('Group')['LoyaltyPage']\n\n\n# Standard deviation of the proportion.\nSTD_p = lambda x: np.std(x, ddof=0)    \n# Standard error of the proportion.\nSE_p = lambda x: st.sem(x, ddof=0)     \n\nconversion_rates = conversion_rates.agg([np.mean, STD_p, SE_p])\n\nconversion_rates.columns = ['conversion_rate',\n                            'std_deviation',\n                            'std_error']\n\n# Convert output into a Pandas DataFrame.\ncr = pd.DataFrame(conversion_rates)\n\n# View output.\ncr",
      "metadata": {},
      "execution_count": null,
      "outputs": [],
      "id": "a8ee46bf"
    },
    {
      "cell_type": "code",
      "source": "from statsmodels.stats.proportion import proportions_ztest, proportion_confint\n\ncontrol_results = ab_test[ab_test['Group'] == 'Control']['LoyaltyPage']\ntreatment_results = ab_test[ab_test['Group'] == 'Treatment']['LoyaltyPage']\n\nn_con = control_results.count()\nn_treat = treatment_results.count()\n\nsuccesses = [control_results.sum(), treatment_results.sum()]\n\nnobs = [n_con, n_treat]\n\nz_stat, pval = proportions_ztest(successes, nobs=nobs)\n(lower_con, lower_treat), (upper_con, upper_treat) = proportion_confint(successes,\n                                                                        nobs=nobs,\n                                                                        alpha=0.05)\n\nprint(f'Z test stat: {z_stat:.2f}')\nprint(f'P-value: {pval:.3f}')\nprint(f'Confidence Interval of 95% for control group: [{lower_con:.3f}, {upper_con:.3f}]')\nprint(f'Confidence Interval of 95% for treatment group: [{lower_treat:.3f}, {upper_treat:.3f}]')",
      "metadata": {},
      "execution_count": null,
      "outputs": [],
      "id": "a70b8a50"
    },
    {
      "cell_type": "markdown",
      "source": "## 7. Summarise results and explain your answers",
      "metadata": {},
      "id": "ecb4521a"
    },
    {
      "cell_type": "markdown",
      "source": "The change to the homepage slightly decreased the click through to the login page. \n\nThe `p`-value is smaller than the Alpha value of 0.05, meaning we reject the $H_0$. ",
      "metadata": {},
      "id": "76385666"
    },
    {
      "cell_type": "code",
      "source": "",
      "metadata": {},
      "execution_count": null,
      "outputs": [],
      "id": "8464318a"
    }
  ]
}